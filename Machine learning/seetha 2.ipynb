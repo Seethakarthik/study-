{
 "cells": [
  {
   "cell_type": "code",
   "execution_count": 4,
   "id": "ec3dd3d8-0991-4507-b99b-3839be16fb13",
   "metadata": {},
   "outputs": [
    {
     "name": "stdout",
     "output_type": "stream",
     "text": [
      "49\n"
     ]
    }
   ],
   "source": [
    "x=24+25 \n",
    "print(x)\n",
    "#mjndfkjgndklg"
   ]
  },
  {
   "cell_type": "markdown",
   "id": "6b76dec4-8a71-4f3e-9403-4fd82b3f5d33",
   "metadata": {},
   "source": [
    "iuyfhiuerfhvnvjlfaka;sdaegbjlkargjnrjhnst"
   ]
  },
  {
   "cell_type": "code",
   "execution_count": null,
   "id": "b268e106-83e9-4993-a0d8-2d925e989b7f",
   "metadata": {},
   "outputs": [],
   "source": []
  }
 ],
 "metadata": {
  "kernelspec": {
   "display_name": "Python 3 (ipykernel)",
   "language": "python",
   "name": "python3"
  },
  "language_info": {
   "codemirror_mode": {
    "name": "ipython",
    "version": 3
   },
   "file_extension": ".py",
   "mimetype": "text/x-python",
   "name": "python",
   "nbconvert_exporter": "python",
   "pygments_lexer": "ipython3",
   "version": "3.11.7"
  }
 },
 "nbformat": 4,
 "nbformat_minor": 5
}
